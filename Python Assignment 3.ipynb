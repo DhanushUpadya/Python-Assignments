{
 "cells": [
  {
   "cell_type": "code",
   "execution_count": 1,
   "metadata": {},
   "outputs": [],
   "source": [
    "class student:\n",
    "    \n",
    "    def __init__(self, name, usn, m1, m2, m3):\n",
    "        self.name = name\n",
    "        self.usn = usn\n",
    "        self.m1 = m1\n",
    "        self.m2 = m2\n",
    "        self.m3 = m3\n",
    "        \n",
    "    def __str__(self):\n",
    "        return f\"Student Name: {self.name} \\nStudent USN: {self.usn} \\nSubject 1 marks: {self.m1} \\nSubject 2 marks: {self.m2} \\nSubject 3 marks: {self.m3} \\n\"\n",
    "    \n",
    "    def p_student(self):\n",
    "        print(str(self.name) + ' ' +str(self.usn) + ' ' + str(self.m1) + ' ' + str(self.m2) + ' ' + str(self.m3))\n",
    "\n",
    "\n",
    "\n",
    "    def increment_marks(self,extramarks=5):\n",
    "        self.m1 = extramarks + self.m1\n",
    "        self.m2 = extramarks + self.m2\n",
    "        self.m3 = extramarks + self.m3\n",
    "        if self.m1 > 100:\n",
    "            self.m1 = 100\n",
    "        if self.m2 > 100:\n",
    "            self.m2 = 100\n",
    "        if self.m3 > 100:\n",
    "            self.m3 = 100\n",
    "        \n",
    "    def percentage(self):\n",
    "        avg = (self.m1 + self.m2 + self.m3) / 3\n",
    "        print(f\"Percentage: {round(avg, 2)}\")\n",
    "\n"
   ]
  },
  {
   "cell_type": "code",
   "execution_count": 2,
   "metadata": {},
   "outputs": [
    {
     "name": "stdout",
     "output_type": "stream",
     "text": [
      "Student Name: Dhanush \n",
      "Student USN: 4vv18cs035 \n",
      "Subject 1 marks: 76 \n",
      "Subject 2 marks: 80 \n",
      "Subject 3 marks: 82 \n",
      "\n"
     ]
    }
   ],
   "source": [
    "student1=student(\"Dhanush\",\"4vv18cs035\",76,80,82)\n",
    "print(student1)"
   ]
  },
  {
   "cell_type": "code",
   "execution_count": 3,
   "metadata": {},
   "outputs": [
    {
     "name": "stdout",
     "output_type": "stream",
     "text": [
      "Dhanush 4vv18cs035 76 80 82\n"
     ]
    }
   ],
   "source": [
    "student1.p_student()"
   ]
  },
  {
   "cell_type": "code",
   "execution_count": 4,
   "metadata": {},
   "outputs": [
    {
     "name": "stdout",
     "output_type": "stream",
     "text": [
      "Student Name: Dhanush \n",
      "Student USN: 4vv18cs035 \n",
      "Subject 1 marks: 81 \n",
      "Subject 2 marks: 85 \n",
      "Subject 3 marks: 87 \n",
      "\n"
     ]
    }
   ],
   "source": [
    "student1.increment_marks()\n",
    "print(student1)"
   ]
  },
  {
   "cell_type": "code",
   "execution_count": 5,
   "metadata": {},
   "outputs": [
    {
     "name": "stdout",
     "output_type": "stream",
     "text": [
      "Percentage: 84.33\n"
     ]
    }
   ],
   "source": [
    "student1.percentage()"
   ]
  },
  {
   "cell_type": "code",
   "execution_count": 6,
   "metadata": {},
   "outputs": [
    {
     "name": "stdout",
     "output_type": "stream",
     "text": [
      "Student Name: Dhanush \n",
      "Student USN: 4vv18cs035 \n",
      "Subject 1 marks: 91 \n",
      "Subject 2 marks: 95 \n",
      "Subject 3 marks: 97 \n",
      "\n"
     ]
    }
   ],
   "source": [
    "student1.increment_marks(10)\n",
    "print(student1)"
   ]
  },
  {
   "cell_type": "code",
   "execution_count": 7,
   "metadata": {},
   "outputs": [
    {
     "name": "stdout",
     "output_type": "stream",
     "text": [
      "Percentage: 94.33\n"
     ]
    }
   ],
   "source": [
    "student1.percentage()"
   ]
  },
  {
   "cell_type": "code",
   "execution_count": 8,
   "metadata": {},
   "outputs": [
    {
     "name": "stdout",
     "output_type": "stream",
     "text": [
      "Student Name: Dhanush \n",
      "Student USN: 4vv18cs035 \n",
      "Subject 1 marks: 96 \n",
      "Subject 2 marks: 100 \n",
      "Subject 3 marks: 100 \n",
      "\n"
     ]
    }
   ],
   "source": [
    "student1.increment_marks()\n",
    "print(student1)"
   ]
  }
 ],
 "metadata": {
  "kernelspec": {
   "display_name": "Python 3",
   "language": "python",
   "name": "python3"
  },
  "language_info": {
   "codemirror_mode": {
    "name": "ipython",
    "version": 3
   },
   "file_extension": ".py",
   "mimetype": "text/x-python",
   "name": "python",
   "nbconvert_exporter": "python",
   "pygments_lexer": "ipython3",
   "version": "3.8.3"
  }
 },
 "nbformat": 4,
 "nbformat_minor": 4
}
