{
 "cells": [
  {
   "cell_type": "markdown",
   "metadata": {},
   "source": [
    "# Python assignment-01\n"
   ]
  },
  {
   "cell_type": "markdown",
   "metadata": {},
   "source": [
    "## Program 1:\n"
   ]
  },
  {
   "cell_type": "markdown",
   "metadata": {},
   "source": [
    "#### Write a short program that prints the numbers 1 to 10 using a for loop. Then write an equivalent program that prints the numbers 1 to 10 using a while loop"
   ]
  },
  {
   "cell_type": "code",
   "execution_count": 2,
   "metadata": {},
   "outputs": [],
   "source": [
    "def looping():\n",
    "    print(\"Printing numbers 1-10 using for loop\")\n",
    "    for i in range(10):\n",
    "        print(i+1, end=\"  \")\n",
    "    \n",
    "    print(\"\\nPrinting numbers 1-10 using while loop\")\n",
    "    x = 1\n",
    "    while x != 11:\n",
    "        print(x, end=\"  \")\n",
    "        x += 1"
   ]
  },
  {
   "cell_type": "code",
   "execution_count": 3,
   "metadata": {},
   "outputs": [
    {
     "name": "stdout",
     "output_type": "stream",
     "text": [
      "Printing numbers 1-10 using for loop\n",
      "1  2  3  4  5  6  7  8  9  10  \n",
      "Printing numbers 1-10 using while loop\n",
      "1  2  3  4  5  6  7  8  9  10  "
     ]
    }
   ],
   "source": [
    "looping()"
   ]
  },
  {
   "cell_type": "markdown",
   "metadata": {},
   "source": [
    "## Program 2:\n"
   ]
  },
  {
   "cell_type": "markdown",
   "metadata": {},
   "source": [
    "#### Write a function to calculate your age ( input : Date of birth )"
   ]
  },
  {
   "cell_type": "code",
   "execution_count": 8,
   "metadata": {},
   "outputs": [],
   "source": [
    "def myage():\n",
    "    birth_date = input(\"Enter your date of birth in 'DD/MM/YYYY' format: \")\n",
    "    bday=int(birth_date[:2])\n",
    "    bmonth=int(birth_date[3:5]) \n",
    "    byear = int(birth_date[6:])\n",
    "    today_date = input(\"Enter today's date in 'DD/MM/YYYY' format: \")\n",
    "    tday=int(today_date[:2])\n",
    "    tmonth = int(today_date[3:5]) \n",
    "    tyear=int(today_date[6:])\n",
    "    \n",
    "    age = tyear - byear -1\n",
    "    if tmonth > bmonth:\n",
    "        age += 1\n",
    "    if tmonth == bmonth:\n",
    "        if tday >= bday:\n",
    "            age += 1\n",
    "    \n",
    "    print(f\"You are {age} years old\")"
   ]
  },
  {
   "cell_type": "code",
   "execution_count": 9,
   "metadata": {},
   "outputs": [
    {
     "name": "stdout",
     "output_type": "stream",
     "text": [
      "Enter your date of birth in 'DD/MM/YYYY' format: 04/11/2000\n",
      "Enter today's date in 'DD/MM/YYYY' format: 24/08/2020\n",
      "You are 19 years old\n"
     ]
    }
   ],
   "source": [
    "myage()"
   ]
  },
  {
   "cell_type": "markdown",
   "metadata": {},
   "source": [
    "## Program 3:\n"
   ]
  },
  {
   "cell_type": "markdown",
   "metadata": {},
   "source": [
    "#### Write a program to check whether given string is palindrome or not ( don't use built in function)"
   ]
  },
  {
   "cell_type": "code",
   "execution_count": 3,
   "metadata": {},
   "outputs": [],
   "source": [
    "def palindrome():\n",
    "    string = input(\"Enter the string: \")\n",
    "    for i in range(len(string)):\n",
    "        if string[i] != string[len(string) -1 - i]:\n",
    "            print(\"Not a palindrome\")\n",
    "            return\n",
    "    print(\"It is a palindrome\")"
   ]
  },
  {
   "cell_type": "code",
   "execution_count": 5,
   "metadata": {},
   "outputs": [
    {
     "name": "stdout",
     "output_type": "stream",
     "text": [
      "Enter the string: malayalam\n",
      "It is a palindrome\n"
     ]
    }
   ],
   "source": [
    "palindrome()"
   ]
  },
  {
   "cell_type": "markdown",
   "metadata": {},
   "source": [
    "## Program 4:\n"
   ]
  },
  {
   "cell_type": "markdown",
   "metadata": {},
   "source": [
    "### Write a function to calculate the discount amount on a sale \n",
    "##### Example :\n",
    "    If purchase amount is >5000 discount percentage is 40%\n",
    "    If Purchase amount is >2000 discount percentage is 20%"
   ]
  },
  {
   "cell_type": "code",
   "execution_count": 6,
   "metadata": {},
   "outputs": [],
   "source": [
    "def discount():\n",
    "    discount = 0\n",
    "    amount = int(input(\"Enter the purchase amount: \"))\n",
    "    if amount > 5000:\n",
    "        discount = 0.4\n",
    "    elif amount > 2000:\n",
    "        discount = 0.2\n",
    "    bill = amount - amount*discount\n",
    "    print(f\"Actual amount: {amount}\")\n",
    "    print(\"Bill after discount: {0:.2f}\".format(bill))\n",
    "    print(\"Total savings: {0:.2f}\".format(amount*discount))"
   ]
  },
  {
   "cell_type": "code",
   "execution_count": 7,
   "metadata": {},
   "outputs": [
    {
     "name": "stdout",
     "output_type": "stream",
     "text": [
      "Enter the purchase amount: 4578\n",
      "Actual amount: 4578\n",
      "Bill after discount: 3662.40\n",
      "Total savings: 915.60\n"
     ]
    }
   ],
   "source": [
    "discount()"
   ]
  }
 ],
 "metadata": {
  "kernelspec": {
   "display_name": "Python 3",
   "language": "python",
   "name": "python3"
  },
  "language_info": {
   "codemirror_mode": {
    "name": "ipython",
    "version": 3
   },
   "file_extension": ".py",
   "mimetype": "text/x-python",
   "name": "python",
   "nbconvert_exporter": "python",
   "pygments_lexer": "ipython3",
   "version": "3.8.3"
  }
 },
 "nbformat": 4,
 "nbformat_minor": 4
}
